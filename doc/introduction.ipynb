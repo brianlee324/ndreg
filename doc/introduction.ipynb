{
 "cells": [
  {
   "cell_type": "markdown",
   "metadata": {},
   "source": [
    "# Introduction\n",
    "The **N**euro**d**ata's **Reg**istration module or **ndreg** is a set of python functions which can be used to align pairs of images.  The module depends on\n",
    "* SimpleITK - A simplified version of the Insight ToolKit an image segmentation and registration library\n",
    "* numpy - A python numerical module simmilar to MATLAB\n",
    "* matplotlib - A plotting and visuiazation module for numpy\n",
    "* ndio - NeuroData's Input/Output module for accessing images and annotations stored in the NeuroData infrastructure"
   ]
  },
  {
   "cell_type": "markdown",
   "metadata": {},
   "source": [
    "## Installation\n",
    "See [README](../README.md) for platform specific installation instructions"
   ]
  },
  {
   "cell_type": "markdown",
   "metadata": {},
   "source": [
    "## Infranstructure\n",
    "\n",
    "Image volumes from a modern microscope can be over a terabyte in size, far too large to be stored on a personal computer.  Thus in our infrastructure are stored on server cluster known as [ndstore](http://docs.neurodata.io/ndstore/). Accessing image data of this size poses many challenges.  Thus ndstore organizes images in spatial database in such a way to minimize read and write times during random access of image cutouts.  In ndstore each image dataset is encapsulated in a *project* which can consist of one or more channels.  Each project has a *token* which is used to access the image data.  A more detailed handling of ndstore's data model can be found [here](http://docs.neurodata.io/ndstore/sphinx/datamodel.html). Given a project token and a channel, images can be downloaded directly from the web to a personal computer using ndstore's RESTful API. In python, the API can be called using the  NeuroData's Input/Output, *ndio* module.  *ndio* functions save image data in [numpy arrays](http://docs.scipy.org/doc/numpy/reference/generated/numpy.array.html) for easy manipulation."
   ]
  },
  {
   "cell_type": "markdown",
   "metadata": {},
   "source": [
    "Although *numpy* is a powerful numerics library it's image processing capibilites are limited.  Thus ndreg depends on *SimpleITK* for image processing.  A detailed tutorial on the installation and usage of SimpleITK can be found [here](http://insightsoftwareconsortium.github.io/SimpleITK-Notebooks/00_Setup.html).  SimpleITK images can be converted to and from numpy arrays using the *SimpleITK.GetArrayFromImage* and *SimpleITK.GetImageFromArray*\n",
    "\n",
    "## Namespace conventions\n",
    "In the following tutorials we use the following naming conventions for modules"
   ]
  },
  {
   "cell_type": "code",
   "execution_count": 1,
   "metadata": {
    "collapsed": true
   },
   "outputs": [],
   "source": [
    "import numpy as np\n",
    "import SimpleITK as sitk\n",
    "import matplotlib.pyplot as plt"
   ]
  },
  {
   "cell_type": "markdown",
   "metadata": {},
   "source": [
    "## Outline\n",
    "1. [Basic Input/Output](io.ipynb)\n",
    "1. [2D Registration](2dRegistration.ipynb)\n",
    "1. [Volumetric Registration and Analysis](volumetricRegistrationAndAnalysis.ipynb)"
   ]
  },
  {
   "cell_type": "code",
   "execution_count": null,
   "metadata": {
    "collapsed": true
   },
   "outputs": [],
   "source": []
  }
 ],
 "metadata": {
  "kernelspec": {
   "display_name": "Python 2",
   "language": "python",
   "name": "python2"
  },
  "language_info": {
   "codemirror_mode": {
    "name": "ipython",
    "version": 2
   },
   "file_extension": ".py",
   "mimetype": "text/x-python",
   "name": "python",
   "nbconvert_exporter": "python",
   "pygments_lexer": "ipython2",
   "version": "2.7.6"
  }
 },
 "nbformat": 4,
 "nbformat_minor": 0
}
